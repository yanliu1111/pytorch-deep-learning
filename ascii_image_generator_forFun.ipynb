{
  "nbformat": 4,
  "nbformat_minor": 0,
  "metadata": {
    "colab": {
      "provenance": [],
      "authorship_tag": "ABX9TyOKFGywrbw2UA+cAIfMD8xm",
      "include_colab_link": true
    },
    "kernelspec": {
      "name": "python3",
      "display_name": "Python 3"
    },
    "language_info": {
      "name": "python"
    }
  },
  "cells": [
    {
      "cell_type": "markdown",
      "metadata": {
        "id": "view-in-github",
        "colab_type": "text"
      },
      "source": [
        "<a href=\"https://colab.research.google.com/github/yanliu1111/pytorch-deep-learning/blob/main/ascii_image_generator_forFun.ipynb\" target=\"_parent\"><img src=\"https://colab.research.google.com/assets/colab-badge.svg\" alt=\"Open In Colab\"/></a>"
      ]
    },
    {
      "cell_type": "code",
      "source": [
        "from PIL import Image, ImageDraw, ImageFont"
      ],
      "metadata": {
        "id": "3n5yMlTey6Jj"
      },
      "execution_count": 24,
      "outputs": []
    },
    {
      "cell_type": "code",
      "source": [
        "char_set = '@%#*+=:-_. '"
      ],
      "metadata": {
        "id": "YJZZtVBAy_dC"
      },
      "execution_count": 25,
      "outputs": []
    },
    {
      "cell_type": "code",
      "execution_count": 45,
      "metadata": {
        "id": "fTVcyR28yxmZ"
      },
      "outputs": [],
      "source": [
        "def image_to_ascii(image_path, width=100):\n",
        "    image = Image.open(image_path)\n",
        "    image = image.convert('L')\n",
        "    aspect_ratio = image.height/image.width\n",
        "    new_height = int(aspect_ratio*width/2)\n",
        "    resized_image = image.resize((width, new_height))\n",
        "    ascii_image = ''\n",
        "    for y in range(new_height):\n",
        "        for x in range(width):\n",
        "            pixel = resized_image.getpixel((x, y))\n",
        "            ascii_image += char_set[int(pixel/255*(len(char_set)-1))]\n",
        "        ascii_image += '\\n'\n",
        "    return ascii_image\n",
        "\n",
        "def display_ascii_in_pil(ascii_image, output_file='ascii_output.png'):\n",
        "    width = len(ascii_image.split('\\n')[0])\n",
        "    height = len(ascii_image.split('\\n'))\n",
        "    font = ImageFont.load_default()\n",
        "    font_width, font_height = font.getsize('X')\n",
        "    pil_image = Image.new('RGB', (font.getlength('X') * width, font_height * height), color='white')\n",
        "    draw = ImageDraw.Draw(pil_image)\n",
        "    y_position = 0\n",
        "    for line in ascii_image.split('\\n'):\n",
        "        draw.text((0, y_position), line, fill='black', font=font)\n",
        "        y_position += font_height\n",
        "\n",
        "    pil_image.save(output_file)\n",
        "    return pil_image"
      ]
    },
    {
      "cell_type": "code",
      "source": [
        "ascii_image = image_to_ascii('Tanjiro.png')"
      ],
      "metadata": {
        "id": "PoiyqFIf30AU"
      },
      "execution_count": 52,
      "outputs": []
    },
    {
      "cell_type": "code",
      "source": [
        "pil_image = display_ascii_in_pil(ascii_image, output_file='ascii_output2.png')"
      ],
      "metadata": {
        "colab": {
          "base_uri": "https://localhost:8080/"
        },
        "id": "HKS8ajek07M6",
        "outputId": "e8a38e55-c855-44f4-9eb2-214d9a2b445c"
      },
      "execution_count": 53,
      "outputs": [
        {
          "output_type": "stream",
          "name": "stderr",
          "text": [
            "<ipython-input-45-fcbdb3799ece>:19: DeprecationWarning: getsize is deprecated and will be removed in Pillow 10 (2023-07-01). Use getbbox or getlength instead.\n",
            "  font_width, font_height = font.getsize('X')\n"
          ]
        }
      ]
    },
    {
      "cell_type": "code",
      "source": [
        "# Display the saved image inline\n",
        "pil_image.show()"
      ],
      "metadata": {
        "id": "dt1n9kwo7omT"
      },
      "execution_count": 51,
      "outputs": []
    }
  ]
}