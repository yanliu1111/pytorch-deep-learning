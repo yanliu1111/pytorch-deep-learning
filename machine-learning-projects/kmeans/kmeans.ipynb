{
  "nbformat": 4,
  "nbformat_minor": 0,
  "metadata": {
    "colab": {
      "provenance": [],
      "authorship_tag": "ABX9TyMzDuXbca7pKWI3VAD2vhk9",
      "include_colab_link": true
    },
    "kernelspec": {
      "name": "python3",
      "display_name": "Python 3"
    },
    "language_info": {
      "name": "python"
    }
  },
  "cells": [
    {
      "cell_type": "markdown",
      "metadata": {
        "id": "view-in-github",
        "colab_type": "text"
      },
      "source": [
        "<a href=\"https://colab.research.google.com/github/yanliu1111/pytorch-deep-learning/blob/main/machine-learning-projects/kmeans/kmeans.ipynb\" target=\"_parent\"><img src=\"https://colab.research.google.com/assets/colab-badge.svg\" alt=\"Open In Colab\"/></a>"
      ]
    },
    {
      "cell_type": "code",
      "execution_count": 26,
      "metadata": {
        "id": "hXvIpCH8PCAC"
      },
      "outputs": [],
      "source": [
        "from collections import defaultdict\n",
        "from random import uniform\n",
        "from math import sqrt"
      ]
    },
    {
      "source": [
        "def point_avg(points):\n",
        "    \"\"\"\n",
        "    Accepts a list of points, each with the same number of dimensions.\n",
        "    NB. points can have more dimensions than 2\n",
        "\n",
        "    Returns a new point which is the center of all the points.\n",
        "    \"\"\"\n",
        "    dimensions = len(points[0])\n",
        "\n",
        "    new_center = []\n",
        "\n",
        "    for dimension in range(dimensions): # xrange replaced with range\n",
        "        dim_sum = 0  # dimension sum\n",
        "        for p in points:\n",
        "            dim_sum += p[dimension]\n",
        "\n",
        "        # average of each dimension\n",
        "        new_center.append(dim_sum / float(len(points)))\n",
        "\n",
        "    return new_center"
      ],
      "cell_type": "code",
      "metadata": {
        "id": "Q7xD2OY-SVG7"
      },
      "execution_count": 27,
      "outputs": []
    },
    {
      "source": [
        "def update_centers(data_set, assignments):\n",
        "    \"\"\"\n",
        "    Accepts a dataset and a list of assignments; the indexes\n",
        "    of both lists correspond to each other.\n",
        "\n",
        "    Compute the center for each of the assigned groups.\n",
        "\n",
        "    Return `k` centers where `k` is the number of unique assignments.\n",
        "    \"\"\"\n",
        "    new_means = defaultdict(list)\n",
        "    centers = []\n",
        "    for assignment, point in zip(assignments, data_set):\n",
        "        new_means[assignment].append(point)\n",
        "\n",
        "    # Replace itervalues() with values()\n",
        "    for points in new_means.values():\n",
        "        centers.append(point_avg(points))\n",
        "\n",
        "    return centers"
      ],
      "cell_type": "code",
      "metadata": {
        "id": "VHYxkM3oTg9h"
      },
      "execution_count": 28,
      "outputs": []
    },
    {
      "cell_type": "code",
      "source": [
        "def assign_points(data_points, centers):\n",
        "    \"\"\"\n",
        "    Given a data set and a list of points betweeen other points,\n",
        "    assign each point to an index that corresponds to the index\n",
        "    of the center point on it's proximity to that point.\n",
        "    Return a an array of indexes of centers that correspond to\n",
        "    an index in the data set; that is, if there are N points\n",
        "    in `data_set` the list we return will have N elements. Also\n",
        "    If there are Y points in `centers` there will be Y unique\n",
        "    possible values within the returned list.\n",
        "    \"\"\"\n",
        "    assignments = []\n",
        "    for point in data_points:\n",
        "        shortest = float('inf')\n",
        "        shortest_index = 0\n",
        "        for i in range(len(centers)):\n",
        "            val = distance(point, centers[i])\n",
        "            if val < shortest:\n",
        "                shortest = val\n",
        "                shortest_index = i\n",
        "        assignments.append(shortest_index)\n",
        "    return assignments"
      ],
      "metadata": {
        "id": "jFEIjEk1RUHZ"
      },
      "execution_count": 29,
      "outputs": []
    },
    {
      "cell_type": "code",
      "source": [
        "def distance(a, b):\n",
        "    \"\"\"\n",
        "    \"\"\"\n",
        "    dimensions = len(a)\n",
        "\n",
        "    _sum = 0\n",
        "    for dimension in range(dimensions):\n",
        "        difference_sq = (a[dimension] - b[dimension]) ** 2\n",
        "        _sum += difference_sq\n",
        "    return sqrt(_sum)"
      ],
      "metadata": {
        "id": "HWP7Re-MRYCB"
      },
      "execution_count": 30,
      "outputs": []
    },
    {
      "cell_type": "code",
      "source": [
        "def generate_k(data_set, k):\n",
        "    \"\"\"\n",
        "    Given `data_set`, which is an array of arrays,\n",
        "    find the minimum and maximum for each coordinate, a range.\n",
        "    Generate `k` random points between the ranges.\n",
        "    Return an array of the random points within the ranges.\n",
        "    \"\"\"\n",
        "    centers = []\n",
        "    dimensions = len(data_set[0])\n",
        "    min_max = defaultdict(int)\n",
        "\n",
        "    for point in data_set:\n",
        "        for i in range(dimensions):\n",
        "            val = point[i]\n",
        "            min_key = 'min_%d' % i\n",
        "            max_key = 'max_%d' % i\n",
        "            if min_key not in min_max or val < min_max[min_key]:\n",
        "                min_max[min_key] = val\n",
        "            if max_key not in min_max or val > min_max[max_key]:\n",
        "                min_max[max_key] = val\n",
        "\n",
        "    for _k in range(k):\n",
        "        rand_point = []\n",
        "        for i in range(dimensions):\n",
        "            min_val = min_max['min_%d' % i]\n",
        "            max_val = min_max['max_%d' % i]\n",
        "\n",
        "            rand_point.append(uniform(min_val, max_val))\n",
        "\n",
        "        centers.append(rand_point)\n",
        "\n",
        "    return centers"
      ],
      "metadata": {
        "id": "jMktceW4Rach"
      },
      "execution_count": 31,
      "outputs": []
    },
    {
      "cell_type": "code",
      "source": [
        "def k_means(dataset, k):\n",
        "    k_points = generate_k(dataset, k)\n",
        "    assignments = assign_points(dataset, k_points)\n",
        "    old_assignments = None\n",
        "    while assignments != old_assignments:\n",
        "        new_centers = update_centers(dataset, assignments)\n",
        "        old_assignments = assignments\n",
        "        assignments = assign_points(dataset, new_centers)\n",
        "    return zip(assignments, dataset)"
      ],
      "metadata": {
        "id": "p99r4IvzRefS"
      },
      "execution_count": 32,
      "outputs": []
    },
    {
      "cell_type": "code",
      "source": [
        "points = [\n",
        "    [1, 2],\n",
        "    [2, 1],\n",
        "    [3, 1],\n",
        "    [5, 4],\n",
        "    [5, 5],\n",
        "    [6, 5],\n",
        "    [10, 8],\n",
        "    [7, 9],\n",
        "    [11, 5],\n",
        "    [14, 9],\n",
        "    [14, 14],\n",
        "    ]\n",
        "results = k_means(points, 3)  # Store the zip object in a variable\n",
        "\n",
        "# Iterate through the results and print them\n",
        "for cluster, point in results:\n",
        "    print(f\"Point: {point} belongs to Cluster: {cluster}\")"
      ],
      "metadata": {
        "colab": {
          "base_uri": "https://localhost:8080/"
        },
        "id": "flJjhM8WRhCL",
        "outputId": "edfe9a36-e8de-4547-8e87-e0765e71ba59"
      },
      "execution_count": 35,
      "outputs": [
        {
          "output_type": "stream",
          "name": "stdout",
          "text": [
            "Point: [1, 2] belongs to Cluster: 0\n",
            "Point: [2, 1] belongs to Cluster: 0\n",
            "Point: [3, 1] belongs to Cluster: 0\n",
            "Point: [5, 4] belongs to Cluster: 0\n",
            "Point: [5, 5] belongs to Cluster: 0\n",
            "Point: [6, 5] belongs to Cluster: 0\n",
            "Point: [10, 8] belongs to Cluster: 1\n",
            "Point: [7, 9] belongs to Cluster: 2\n",
            "Point: [11, 5] belongs to Cluster: 1\n",
            "Point: [14, 9] belongs to Cluster: 1\n",
            "Point: [14, 14] belongs to Cluster: 1\n"
          ]
        }
      ]
    },
    {
      "source": [
        "import matplotlib.pyplot as plt\n",
        "\n",
        "# ... (your existing code) ...\n",
        "\n",
        "results = list(k_means(points, 3))  # Convert results to a list to preserve data\n",
        "\n",
        "# Extract cluster assignments and data points for plotting\n",
        "cluster_assignments = [cluster for cluster, _ in results]\n",
        "data_points = [point for _, point in results]\n",
        "\n",
        "# Create scatter plot\n",
        "plt.figure(figsize=(8, 6))  # Adjust figure size if needed\n",
        "plt.scatter(\n",
        "    [p[0] for p in data_points],  # x-coordinates\n",
        "    [p[1] for p in data_points],  # y-coordinates\n",
        "    c=cluster_assignments,  # Color points by cluster assignment\n",
        "    cmap=\"viridis\",  # Choose a colormap (e.g., \"viridis\", \"plasma\")\n",
        ")\n",
        "plt.title(\"K-Means Clustering Results\")\n",
        "plt.xlabel(\"X-axis\")\n",
        "plt.ylabel(\"Y-axis\")\n",
        "plt.show()"
      ],
      "cell_type": "code",
      "metadata": {
        "colab": {
          "base_uri": "https://localhost:8080/",
          "height": 564
        },
        "id": "ittlK3w5UhfB",
        "outputId": "3da1337c-2791-4234-eda4-f7555846b432"
      },
      "execution_count": 37,
      "outputs": [
        {
          "output_type": "display_data",
          "data": {
            "text/plain": [
              "<Figure size 800x600 with 1 Axes>"
            ],
            "image/png": "[encoded data removed]"
          },
          "metadata": {}
        }
      ]
    }
  ]
}