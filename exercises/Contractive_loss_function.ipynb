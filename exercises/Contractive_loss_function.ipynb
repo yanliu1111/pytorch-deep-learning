{
  "nbformat": 4,
  "nbformat_minor": 0,
  "metadata": {
    "colab": {
      "provenance": [],
      "authorship_tag": "ABX9TyMAj8q7dlvufdROdrxD+Swx",
      "include_colab_link": true
    },
    "kernelspec": {
      "name": "python3",
      "display_name": "Python 3"
    },
    "language_info": {
      "name": "python"
    }
  },
  "cells": [
    {
      "cell_type": "markdown",
      "metadata": {
        "id": "view-in-github",
        "colab_type": "text"
      },
      "source": [
        "<a href=\"https://colab.research.google.com/github/yanliu1111/pytorch-deep-learning/blob/main/exercises/Contractive_loss_function.ipynb\" target=\"_parent\"><img src=\"https://colab.research.google.com/assets/colab-badge.svg\" alt=\"Open In Colab\"/></a>"
      ]
    },
    {
      "cell_type": "markdown",
      "source": [
        "Trainning the model, we need to specify a couple things, 1. what is the loss function we are going to use. 2. we need to specifiy the optimization algrithm. loss function works for, when two images are different, but the output distance is low, we want the loss function returns a big value, so the update is big. But two images are same and the distance is large, we want loss func gave a big error. The opposite if two images are same and distance is small, dont mess up the weight, and loss func recognizes that the network is working fine.\n",
        "\n",
        "Learning resource: https://www.youtube.com/watch?v=GikIJpUv6oo&ab_channel=Underfitted"
      ],
      "metadata": {
        "id": "1cn5_DmGWOw4"
      }
    },
    {
      "cell_type": "code",
      "execution_count": 1,
      "metadata": {
        "id": "KZt2-HtCJq_e"
      },
      "outputs": [],
      "source": [
        "import os\n",
        "os.environ['KERAS_BACKEND'] = 'tensorflow'\n",
        "import keras"
      ]
    },
    {
      "cell_type": "markdown",
      "source": [
        " loading the dataset:"
      ],
      "metadata": {
        "id": "G4jl8ignL_bF"
      }
    },
    {
      "cell_type": "code",
      "source": [
        "from keras import datasets\n",
        "\n",
        "(X_train, y_train), (X_test, y_test) = datasets.mnist.load_data()\n",
        "\n",
        "print(\"X_train shape:\", X_train.shape)\n",
        "print(\"y_train shape:\", y_train.shape)"
      ],
      "metadata": {
        "colab": {
          "base_uri": "https://localhost:8080/"
        },
        "id": "j4ukN8WwL9o3",
        "outputId": "20955faa-3b7a-4c7f-9ba2-9015276d82cc"
      },
      "execution_count": 2,
      "outputs": [
        {
          "output_type": "stream",
          "name": "stdout",
          "text": [
            "X_train shape: (60000, 28, 28)\n",
            "y_train shape: (60000,)\n"
          ]
        }
      ]
    },
    {
      "cell_type": "code",
      "source": [
        "import matplotlib.pyplot as plt\n",
        "\n",
        "\n",
        "for i in range(10):\n",
        "    plt.subplot(1, 10, i + 1)\n",
        "    plt.imshow(X_train[i], cmap=\"gray\")\n",
        "    plt.title(y_train[i])\n",
        "    plt.axis(\"off\")"
      ],
      "metadata": {
        "colab": {
          "base_uri": "https://localhost:8080/",
          "height": 101
        },
        "id": "Jh2mk8t6MNV2",
        "outputId": "8e7f0c53-26f0-45ac-b009-70350bda5eaf"
      },
      "execution_count": 3,
      "outputs": [
        {
          "output_type": "display_data",
          "data": {
            "text/plain": [
              "<Figure size 640x480 with 10 Axes>"
            ],
            "image/png": "[encoded data removed]"
          },
          "metadata": {}
        }
      ]
    },
    {
      "cell_type": "markdown",
      "source": [
        "create a neural network that receives every pixel as an input. Let's reshape the data to have a single array with 28 x 28 = 784 pixels."
      ],
      "metadata": {
        "id": "5olSCfupNXNQ"
      }
    },
    {
      "cell_type": "code",
      "source": [
        "X_train = X_train.reshape(-1, 784)\n",
        "X_test = X_test.reshape(-1, 784)\n",
        "\n",
        "print(\"X_train shape:\", X_train.shape)\n",
        "print(\"X_test shape:\", X_test.shape)"
      ],
      "metadata": {
        "colab": {
          "base_uri": "https://localhost:8080/"
        },
        "id": "rWjcz55CNm9h",
        "outputId": "44903ddc-f66a-41b2-fda8-17a51d48b74b"
      },
      "execution_count": 4,
      "outputs": [
        {
          "output_type": "stream",
          "name": "stdout",
          "text": [
            "X_train shape: (60000, 784)\n",
            "X_test shape: (10000, 784)\n"
          ]
        }
      ]
    },
    {
      "cell_type": "code",
      "source": [
        "X_train[0]"
      ],
      "metadata": {
        "colab": {
          "base_uri": "https://localhost:8080/"
        },
        "id": "qkAZqpzaQl3Z",
        "outputId": "64bd7454-f709-4df6-abc4-3ade863e3f49"
      },
      "execution_count": 5,
      "outputs": [
        {
          "output_type": "execute_result",
          "data": {
            "text/plain": [
              "array([  0,   0,   0,   0,   0,   0,   0,   0,   0,   0,   0,   0,   0,\n",
              "         0,   0,   0,   0,   0,   0,   0,   0,   0,   0,   0,   0,   0,\n",
              "         0,   0,   0,   0,   0,   0,   0,   0,   0,   0,   0,   0,   0,\n",
              "         0,   0,   0,   0,   0,   0,   0,   0,   0,   0,   0,   0,   0,\n",
              "         0,   0,   0,   0,   0,   0,   0,   0,   0,   0,   0,   0,   0,\n",
              "         0,   0,   0,   0,   0,   0,   0,   0,   0,   0,   0,   0,   0,\n",
              "         0,   0,   0,   0,   0,   0,   0,   0,   0,   0,   0,   0,   0,\n",
              "         0,   0,   0,   0,   0,   0,   0,   0,   0,   0,   0,   0,   0,\n",
              "         0,   0,   0,   0,   0,   0,   0,   0,   0,   0,   0,   0,   0,\n",
              "         0,   0,   0,   0,   0,   0,   0,   0,   0,   0,   0,   0,   0,\n",
              "         0,   0,   0,   0,   0,   0,   0,   0,   0,   0,   0,   0,   0,\n",
              "         0,   0,   0,   0,   0,   0,   0,   0,   0,   3,  18,  18,  18,\n",
              "       126, 136, 175,  26, 166, 255, 247, 127,   0,   0,   0,   0,   0,\n",
              "         0,   0,   0,   0,   0,   0,   0,  30,  36,  94, 154, 170, 253,\n",
              "       253, 253, 253, 253, 225, 172, 253, 242, 195,  64,   0,   0,   0,\n",
              "         0,   0,   0,   0,   0,   0,   0,   0,  49, 238, 253, 253, 253,\n",
              "       253, 253, 253, 253, 253, 251,  93,  82,  82,  56,  39,   0,   0,\n",
              "         0,   0,   0,   0,   0,   0,   0,   0,   0,   0,  18, 219, 253,\n",
              "       253, 253, 253, 253, 198, 182, 247, 241,   0,   0,   0,   0,   0,\n",
              "         0,   0,   0,   0,   0,   0,   0,   0,   0,   0,   0,   0,   0,\n",
              "        80, 156, 107, 253, 253, 205,  11,   0,  43, 154,   0,   0,   0,\n",
              "         0,   0,   0,   0,   0,   0,   0,   0,   0,   0,   0,   0,   0,\n",
              "         0,   0,   0,  14,   1, 154, 253,  90,   0,   0,   0,   0,   0,\n",
              "         0,   0,   0,   0,   0,   0,   0,   0,   0,   0,   0,   0,   0,\n",
              "         0,   0,   0,   0,   0,   0,   0, 139, 253, 190,   2,   0,   0,\n",
              "         0,   0,   0,   0,   0,   0,   0,   0,   0,   0,   0,   0,   0,\n",
              "         0,   0,   0,   0,   0,   0,   0,   0,   0,  11, 190, 253,  70,\n",
              "         0,   0,   0,   0,   0,   0,   0,   0,   0,   0,   0,   0,   0,\n",
              "         0,   0,   0,   0,   0,   0,   0,   0,   0,   0,   0,   0,  35,\n",
              "       241, 225, 160, 108,   1,   0,   0,   0,   0,   0,   0,   0,   0,\n",
              "         0,   0,   0,   0,   0,   0,   0,   0,   0,   0,   0,   0,   0,\n",
              "         0,   0,  81, 240, 253, 253, 119,  25,   0,   0,   0,   0,   0,\n",
              "         0,   0,   0,   0,   0,   0,   0,   0,   0,   0,   0,   0,   0,\n",
              "         0,   0,   0,   0,   0,  45, 186, 253, 253, 150,  27,   0,   0,\n",
              "         0,   0,   0,   0,   0,   0,   0,   0,   0,   0,   0,   0,   0,\n",
              "         0,   0,   0,   0,   0,   0,   0,   0,  16,  93, 252, 253, 187,\n",
              "         0,   0,   0,   0,   0,   0,   0,   0,   0,   0,   0,   0,   0,\n",
              "         0,   0,   0,   0,   0,   0,   0,   0,   0,   0,   0,   0, 249,\n",
              "       253, 249,  64,   0,   0,   0,   0,   0,   0,   0,   0,   0,   0,\n",
              "         0,   0,   0,   0,   0,   0,   0,   0,   0,   0,   0,  46, 130,\n",
              "       183, 253, 253, 207,   2,   0,   0,   0,   0,   0,   0,   0,   0,\n",
              "         0,   0,   0,   0,   0,   0,   0,   0,   0,   0,   0,  39, 148,\n",
              "       229, 253, 253, 253, 250, 182,   0,   0,   0,   0,   0,   0,   0,\n",
              "         0,   0,   0,   0,   0,   0,   0,   0,   0,   0,   0,  24, 114,\n",
              "       221, 253, 253, 253, 253, 201,  78,   0,   0,   0,   0,   0,   0,\n",
              "         0,   0,   0,   0,   0,   0,   0,   0,   0,   0,   0,  23,  66,\n",
              "       213, 253, 253, 253, 253, 198,  81,   2,   0,   0,   0,   0,   0,\n",
              "         0,   0,   0,   0,   0,   0,   0,   0,   0,   0,   0,  18, 171,\n",
              "       219, 253, 253, 253, 253, 195,  80,   9,   0,   0,   0,   0,   0,\n",
              "         0,   0,   0,   0,   0,   0,   0,   0,   0,   0,   0,  55, 172,\n",
              "       226, 253, 253, 253, 253, 244, 133,  11,   0,   0,   0,   0,   0,\n",
              "         0,   0,   0,   0,   0,   0,   0,   0,   0,   0,   0,   0,   0,\n",
              "       136, 253, 253, 253, 212, 135, 132,  16,   0,   0,   0,   0,   0,\n",
              "         0,   0,   0,   0,   0,   0,   0,   0,   0,   0,   0,   0,   0,\n",
              "         0,   0,   0,   0,   0,   0,   0,   0,   0,   0,   0,   0,   0,\n",
              "         0,   0,   0,   0,   0,   0,   0,   0,   0,   0,   0,   0,   0,\n",
              "         0,   0,   0,   0,   0,   0,   0,   0,   0,   0,   0,   0,   0,\n",
              "         0,   0,   0,   0,   0,   0,   0,   0,   0,   0,   0,   0,   0,\n",
              "         0,   0,   0,   0,   0,   0,   0,   0,   0,   0,   0,   0,   0,\n",
              "         0,   0,   0,   0,   0,   0,   0,   0,   0,   0,   0,   0,   0,\n",
              "         0,   0,   0,   0], dtype=uint8)"
            ]
          },
          "metadata": {},
          "execution_count": 5
        }
      ]
    },
    {
      "cell_type": "markdown",
      "source": [
        "Neutral network dont like large range , so we do normalization image pixel num, squeeze num to [0, 1] <br>\n",
        "Use min-max normalization formula for this:<br>\n",
        "X_train = (X_train - X_train.min()) / (X_train.max() - X_train.min())<br>\n",
        "For an image, X_train.min() is 0 and X_train.max() is 255, so we can simplify the formula to:<br>\n",
        "\n",
        "X_train = X_train / 255.0"
      ],
      "metadata": {
        "id": "-of3nbtjN7xW"
      }
    },
    {
      "cell_type": "code",
      "source": [
        "X_train = X_train / 255.0\n",
        "X_test = X_test / 255.0"
      ],
      "metadata": {
        "id": "snEhh8LKOwve"
      },
      "execution_count": 6,
      "outputs": []
    },
    {
      "cell_type": "markdown",
      "source": [
        "We'll train a Siamese Network using positive and negative pairs of images. A positive pair consists of two images representing the same digit, while a negative pair consists of two images representing different digits."
      ],
      "metadata": {
        "id": "_Hd-MBtOQhRA"
      }
    },
    {
      "cell_type": "code",
      "source": [
        "import numpy as np\n",
        "\n",
        "\n",
        "def generate_pairs(X, y):\n",
        "    \"\"\"\n",
        "    Creates a collection of positive and negative image pairs from the supplied\n",
        "    array of images.\n",
        "\n",
        "    A positive pair contains two images of the same digit. A negative pair contains\n",
        "    two images representing different digits.\n",
        "    \"\"\"\n",
        "\n",
        "    X_pairs = []\n",
        "    y_pairs = []\n",
        "\n",
        "    for i in range(len(X)):\n",
        "        digit = y[i]\n",
        "\n",
        "        # Find a random image representing the same digit.\n",
        "        # This is a positive pair.\n",
        "        positive_digit_index = np.random.choice(np.where(y == digit)[0])\n",
        "\n",
        "        # Add the pair of images to the list.\n",
        "        X_pairs.append([X[i], X[positive_digit_index]])\n",
        "\n",
        "        # Since this is a positive pair, the ground truth label is 0.\n",
        "        # The distance between images representing the same digit should be small,\n",
        "        # and that's why we use 0 as the label.\n",
        "        y_pairs.append([0])\n",
        "\n",
        "        # Find a random image representing a different digit.\n",
        "        # This is a negative pair.\n",
        "        negative_digit_index = np.random.choice(np.where(y != digit)[0])\n",
        "\n",
        "        # Add the pair of images to the list.\n",
        "        X_pairs.append([X[i], X[negative_digit_index]])\n",
        "\n",
        "        # Since this is a negative pair, the ground truth label is 1.\n",
        "        # The distance between images representing different digits should be large,\n",
        "        # and that's why we use 1 as the label.\n",
        "        y_pairs.append([1])\n",
        "\n",
        "    indices = np.arange(len(X_pairs))\n",
        "    np.random.shuffle(indices)\n",
        "\n",
        "    return np.array(X_pairs)[indices], np.array(y_pairs)[indices]"
      ],
      "metadata": {
        "id": "CiiewGCpO1Xg"
      },
      "execution_count": 7,
      "outputs": []
    },
    {
      "cell_type": "markdown",
      "source": [
        "generate the pairs for training and testing the model:"
      ],
      "metadata": {
        "id": "yCRZik6eRVd7"
      }
    },
    {
      "cell_type": "code",
      "source": [
        "X_train_pairs, y_train_pairs = generate_pairs(X_train, y_train)\n",
        "X_test_pairs, y_test_pairs = generate_pairs(X_test, y_test)\n",
        "\n",
        "print(\"X_train_pairs shape:\", X_train_pairs.shape)\n",
        "print(\"X_test_pairs shape:\", X_test_pairs.shape)"
      ],
      "metadata": {
        "colab": {
          "base_uri": "https://localhost:8080/"
        },
        "id": "iognJ2TiRU8G",
        "outputId": "18889266-4794-4e2e-b8ef-9b38b89c6ab3"
      },
      "execution_count": 8,
      "outputs": [
        {
          "output_type": "stream",
          "name": "stdout",
          "text": [
            "X_train_pairs shape: (120000, 2, 784)\n",
            "X_test_pairs shape: (20000, 2, 784)\n"
          ]
        }
      ]
    },
    {
      "cell_type": "markdown",
      "source": [
        "display some of these pairs to ensure they were generated correctly:"
      ],
      "metadata": {
        "id": "hYNCavjFRvF2"
      }
    },
    {
      "cell_type": "code",
      "source": [
        "def display_pairs(X, y, correct=None):\n",
        "    \"\"\"\n",
        "    Displays the first ten pairs from the supplied array.\n",
        "\n",
        "    Args:\n",
        "        - X: An array containing the image pairs.\n",
        "        - y: An array containing the corresponding label (0 if both\n",
        "            pairs are the same, and 1 if both pairs are different.)\n",
        "        - correct (optional): An array of boolean values indicating whether\n",
        "            the supplied labels correctly represent the image pairs.\n",
        "    \"\"\"\n",
        "\n",
        "    n = 10\n",
        "\n",
        "    plt.figure(figsize=(20, 6))\n",
        "    for i, (image1, image2) in enumerate(zip(X[:n, 0], X[:n, 1])):\n",
        "        label = int(y[:n][i][0])\n",
        "\n",
        "        text = \"Positive\" if label == 0 else \"Negative\"\n",
        "        color = \"silver\"\n",
        "\n",
        "        # If we know whether the supplied labels are correct, let's change the\n",
        "        # text and the face color of the annotation on the chart.\n",
        "        if correct is not None:\n",
        "            text = \"Same\" if label == 0 else \"Different\"\n",
        "            color = \"mediumseagreen\" if correct[:n][i][0] else \"indianred\"\n",
        "\n",
        "        ax = plt.subplot(3, n, i + 1)\n",
        "        ax.text(\n",
        "            1,\n",
        "            -3,\n",
        "            text,\n",
        "            style=\"italic\",\n",
        "            bbox={\"facecolor\": color, \"pad\": 4},\n",
        "        )\n",
        "\n",
        "        plt.imshow(image1.reshape(28, 28), cmap=\"gray\")\n",
        "        plt.axis(\"off\")\n",
        "\n",
        "        ax = plt.subplot(3, n, i + 1 + n)\n",
        "        plt.imshow(image2.reshape(28, 28), cmap=\"gray\")\n",
        "        plt.axis(\"off\")\n",
        "\n",
        "    plt.show()\n",
        "\n",
        "\n",
        "display_pairs(X_train_pairs, y_train_pairs)"
      ],
      "metadata": {
        "colab": {
          "base_uri": "https://localhost:8080/",
          "height": 275
        },
        "id": "Dc5S2BrNR0BZ",
        "outputId": "0a409244-7081-49d6-a7e4-fcd5b888f051"
      },
      "execution_count": 9,
      "outputs": [
        {
          "output_type": "display_data",
          "data": {
            "text/plain": [
              "<Figure size 2000x600 with 20 Axes>"
            ],
            "image/png": "[encoded data removed]"
          },
          "metadata": {}
        }
      ]
    },
    {
      "cell_type": "markdown",
      "source": [
        "It's time to start building the Siamese Network. Let's first define the inputs that will receive the pair of images:"
      ],
      "metadata": {
        "id": "BFOjDgh3R6XW"
      }
    },
    {
      "cell_type": "code",
      "source": [
        "from keras import Input\n",
        "\n",
        "input1 = Input(shape=(784,))\n",
        "input2 = Input(shape=(784,))"
      ],
      "metadata": {
        "id": "uLAv-COlR4I2"
      },
      "execution_count": 10,
      "outputs": []
    },
    {
      "cell_type": "markdown",
      "source": [
        "This network will be responsible of generating the embeddings for each of the input images:\n",
        "\n",
        "Nonlinearilty relu , top 1, 2 layers activation function"
      ],
      "metadata": {
        "id": "A4xLwkBkS1XP"
      }
    },
    {
      "cell_type": "code",
      "source": [
        "from keras.layers import Dense\n",
        "from keras.models import Sequential\n",
        "\n",
        "network = Sequential(\n",
        "    [\n",
        "        Input(shape=(784,)),\n",
        "        Dense(512, activation=\"relu\"),\n",
        "        Dense(256, activation=\"relu\"),\n",
        "        Dense(128, activation=None),\n",
        "    ]\n",
        ")"
      ],
      "metadata": {
        "id": "cG_r1aR_TMIn"
      },
      "execution_count": 11,
      "outputs": []
    },
    {
      "cell_type": "markdown",
      "source": [
        "Our network will have two branches, each one responsible for processing one of the images in the pair. We want to share the same weights between the branches, so we'll use the same network instance:"
      ],
      "metadata": {
        "id": "PSmqUJDmVAGv"
      }
    },
    {
      "cell_type": "code",
      "source": [
        "twin1 = network(input1)\n",
        "twin2 = network(input2)"
      ],
      "metadata": {
        "id": "VhY8DU3oU_ym"
      },
      "execution_count": 12,
      "outputs": []
    },
    {
      "cell_type": "markdown",
      "source": [
        "The output of the Siamese Network will be the distance between the embeddings of the two images. To do this, we can use a Lambda layer to calculate the Euclidean distance between the embeddings:"
      ],
      "metadata": {
        "id": "duYznZubVC84"
      }
    },
    {
      "cell_type": "code",
      "source": [
        "# ! probably you don't need this step!\n",
        "# It seems you are running keras 3 commands. We are still on keras 2.15. You might need to upgrade to keras 3\n",
        "!pip install --upgrade keras"
      ],
      "metadata": {
        "id": "0z1023QBZ5M1"
      },
      "execution_count": null,
      "outputs": []
    },
    {
      "cell_type": "code",
      "source": [
        "from keras.layers import Lambda\n",
        "from keras.ops import norm\n",
        "\n",
        "\n",
        "def euclidean_distance(twins):\n",
        "    \"\"\"Compute the euclidean distance (norm) of the output of\n",
        "    the twin networks.\n",
        "    \"\"\"\n",
        "    twin1_output, twin2_output = twins\n",
        "    return norm(twin1_output - twin2_output, axis=1, keepdims=True)\n",
        "\n",
        "\n",
        "distance = Lambda(euclidean_distance)([twin1, twin2])"
      ],
      "metadata": {
        "id": "QF1N1PVCVFDp"
      },
      "execution_count": 14,
      "outputs": []
    },
    {
      "cell_type": "markdown",
      "source": [
        "Set up the model:"
      ],
      "metadata": {
        "id": "4tXwB7fEaTjM"
      }
    },
    {
      "cell_type": "code",
      "source": [
        "from keras import Model\n",
        "\n",
        "model = Model(inputs=[input1, input2], outputs=distance)"
      ],
      "metadata": {
        "id": "HXq8EUrxaYKz"
      },
      "execution_count": 15,
      "outputs": []
    },
    {
      "cell_type": "markdown",
      "source": [
        "We'll use the Contrastive Loss to train the model. You can find the formula of this loss in the paper \"Dimensionality Reduction by Learning an Invariant Mapping.\""
      ],
      "metadata": {
        "id": "umUVehBtabEI"
      }
    },
    {
      "cell_type": "code",
      "source": [
        "from keras.ops import cast, maximum, square\n",
        "\n",
        "\n",
        "def contrastive_loss(y, d):\n",
        "    \"\"\"\n",
        "    Compute the contrastive loss introduced by Yann LeCun et al. in the paper\n",
        "    \"Dimensionality Reduction by Learning an Invariant Mapping.\"\n",
        "    \"\"\"\n",
        "\n",
        "    margin = 1\n",
        "    y = cast(y, d.dtype)\n",
        "\n",
        "    loss = (1 - y) / 2 * square(d) + y / 2 * square(maximum(0.0, margin - d))\n",
        "\n",
        "    return loss"
      ],
      "metadata": {
        "id": "qf41FokgaU5z"
      },
      "execution_count": 16,
      "outputs": []
    },
    {
      "cell_type": "markdown",
      "source": [
        "Let's compile the model using the Contrastive Loss:"
      ],
      "metadata": {
        "id": "SGrWqeKmaenr"
      }
    },
    {
      "cell_type": "code",
      "source": [
        "from keras.metrics import binary_accuracy\n",
        "\n",
        "model.compile(loss=contrastive_loss, optimizer=\"adam\", metrics=[binary_accuracy])"
      ],
      "metadata": {
        "id": "welFttsOahGh"
      },
      "execution_count": 17,
      "outputs": []
    },
    {
      "cell_type": "markdown",
      "source": [
        "Here is what the model architecture looks like:"
      ],
      "metadata": {
        "id": "SU1-wyFxakPg"
      }
    },
    {
      "cell_type": "code",
      "source": [
        "keras.utils.plot_model(\n",
        "    model, to_file=\"model.png\", show_shapes=True, show_layer_names=False\n",
        ")"
      ],
      "metadata": {
        "colab": {
          "base_uri": "https://localhost:8080/",
          "height": 907
        },
        "id": "Y67P0x-lalcJ",
        "outputId": "323329d7-9b13-4c73-c0de-501371116ed8"
      },
      "execution_count": 18,
      "outputs": [
        {
          "output_type": "execute_result",
          "data": {
            "image/png": "[encoded data removed]",
            "text/plain": [
              "<IPython.core.display.Image object>"
            ]
          },
          "metadata": {},
          "execution_count": 18
        }
      ]
    },
    {
      "cell_type": "markdown",
      "source": [
        "Let's fit the model:"
      ],
      "metadata": {
        "id": "nThLL2JzaqfG"
      }
    },
    {
      "cell_type": "markdown",
      "source": [],
      "metadata": {
        "id": "HATxX58ZaqdJ"
      }
    },
    {
      "cell_type": "code",
      "source": [
        "history = model.fit(\n",
        "    x=[X_train_pairs[:, 0], X_train_pairs[:, 1]],\n",
        "    y=y_train_pairs[:],\n",
        "    validation_data=([X_test_pairs[:, 0], X_test_pairs[:, 1]], y_test_pairs[:]),\n",
        "    batch_size=32,\n",
        "    epochs=5,\n",
        ")"
      ],
      "metadata": {
        "colab": {
          "base_uri": "https://localhost:8080/"
        },
        "id": "RtvdDXZhasxA",
        "outputId": "166cbd43-732c-4bef-d99f-b98f98977f25"
      },
      "execution_count": 19,
      "outputs": [
        {
          "output_type": "stream",
          "name": "stdout",
          "text": [
            "Epoch 1/5\n",
            "\u001b[1m3750/3750\u001b[0m \u001b[32m━━━━━━━━━━━━━━━━━━━━\u001b[0m\u001b[37m\u001b[0m \u001b[1m50s\u001b[0m 13ms/step - binary_accuracy: 0.8929 - loss: 0.0503 - val_binary_accuracy: 0.9676 - val_loss: 0.0191\n",
            "Epoch 2/5\n",
            "\u001b[1m3750/3750\u001b[0m \u001b[32m━━━━━━━━━━━━━━━━━━━━\u001b[0m\u001b[37m\u001b[0m \u001b[1m84s\u001b[0m 13ms/step - binary_accuracy: 0.9793 - loss: 0.0153 - val_binary_accuracy: 0.9718 - val_loss: 0.0162\n",
            "Epoch 3/5\n",
            "\u001b[1m3750/3750\u001b[0m \u001b[32m━━━━━━━━━━━━━━━━━━━━\u001b[0m\u001b[37m\u001b[0m \u001b[1m80s\u001b[0m 13ms/step - binary_accuracy: 0.9870 - loss: 0.0104 - val_binary_accuracy: 0.9751 - val_loss: 0.0138\n",
            "Epoch 4/5\n",
            "\u001b[1m3750/3750\u001b[0m \u001b[32m━━━━━━━━━━━━━━━━━━━━\u001b[0m\u001b[37m\u001b[0m \u001b[1m81s\u001b[0m 13ms/step - binary_accuracy: 0.9905 - loss: 0.0082 - val_binary_accuracy: 0.9750 - val_loss: 0.0133\n",
            "Epoch 5/5\n",
            "\u001b[1m3750/3750\u001b[0m \u001b[32m━━━━━━━━━━━━━━━━━━━━\u001b[0m\u001b[37m\u001b[0m \u001b[1m82s\u001b[0m 13ms/step - binary_accuracy: 0.9934 - loss: 0.0066 - val_binary_accuracy: 0.9739 - val_loss: 0.0136\n"
          ]
        }
      ]
    },
    {
      "cell_type": "code",
      "source": [
        "plt.plot(history.history[\"loss\"])\n",
        "plt.plot(history.history[\"val_loss\"])\n",
        "plt.title(\"Training and Validation Loss\")\n",
        "plt.ylabel(\"loss\")\n",
        "plt.xlabel(\"epoch\")\n",
        "plt.legend([\"train\", \"val\"], loc=\"upper right\")\n",
        "plt.show()"
      ],
      "metadata": {
        "colab": {
          "base_uri": "https://localhost:8080/",
          "height": 472
        },
        "id": "6WRZNF2ucmb5",
        "outputId": "8cc60c0e-0a14-4a6a-ef2c-a1d7fe09664d"
      },
      "execution_count": 20,
      "outputs": [
        {
          "output_type": "display_data",
          "data": {
            "text/plain": [
              "<Figure size 640x480 with 1 Axes>"
            ],
            "image/png": "[encoded data removed]"
          },
          "metadata": {}
        }
      ]
    },
    {
      "cell_type": "markdown",
      "source": [
        "Let's evaluate the model using the test data and display some of the predictions:\n",
        "\n",
        "In Siamese Network use predict function"
      ],
      "metadata": {
        "id": "qAzeWzYOcqGw"
      }
    },
    {
      "cell_type": "code",
      "source": [
        "predictions = model.predict([X_test_pairs[:, 0], X_test_pairs[:, 1]]) >= 0.5\n",
        "display_pairs(X_test_pairs, predictions, predictions == y_test_pairs)"
      ],
      "metadata": {
        "colab": {
          "base_uri": "https://localhost:8080/",
          "height": 292
        },
        "id": "0EdY65WEcr87",
        "outputId": "aac89527-69dc-431e-b91d-095e9f5c18cf"
      },
      "execution_count": 21,
      "outputs": [
        {
          "output_type": "stream",
          "name": "stdout",
          "text": [
            "\u001b[1m625/625\u001b[0m \u001b[32m━━━━━━━━━━━━━━━━━━━━\u001b[0m\u001b[37m\u001b[0m \u001b[1m3s\u001b[0m 4ms/step\n"
          ]
        },
        {
          "output_type": "display_data",
          "data": {
            "text/plain": [
              "<Figure size 2000x600 with 20 Axes>"
            ],
            "image/png": "[encoded data removed]"
          },
          "metadata": {}
        }
      ]
    },
    {
      "cell_type": "markdown",
      "source": [
        "Finally, we can compute the accuracy of the model on the test data:"
      ],
      "metadata": {
        "id": "X53PtIamcwsT"
      }
    },
    {
      "cell_type": "code",
      "source": [
        "accuracy = keras.metrics.BinaryAccuracy()\n",
        "accuracy.update_state(y_test_pairs, predictions.astype(int))\n",
        "print(f\"Accuracy: {accuracy.result().numpy():.2f}\")"
      ],
      "metadata": {
        "colab": {
          "base_uri": "https://localhost:8080/"
        },
        "id": "zi9Mx3TOcvhC",
        "outputId": "dd3bcab5-2a68-469f-a4ce-7387cac6bfba"
      },
      "execution_count": 22,
      "outputs": [
        {
          "output_type": "stream",
          "name": "stdout",
          "text": [
            "Accuracy: 0.97\n"
          ]
        }
      ]
    },
    {
      "cell_type": "markdown",
      "source": [
        "Get embedding: the sequential model is the embeding we care about\n",
        "These are the different layers of the model we trained:"
      ],
      "metadata": {
        "id": "JyZKyipwFjYS"
      }
    },
    {
      "cell_type": "code",
      "source": [
        "model.layers"
      ],
      "metadata": {
        "colab": {
          "base_uri": "https://localhost:8080/"
        },
        "id": "HdpI0QG8c145",
        "outputId": "aa900d4d-87b6-408e-e85a-b6846a20fbcf"
      },
      "execution_count": 23,
      "outputs": [
        {
          "output_type": "execute_result",
          "data": {
            "text/plain": [
              "[<InputLayer name=input_layer, built=True>,\n",
              " <InputLayer name=input_layer_1, built=True>,\n",
              " <Sequential name=sequential, built=True>,\n",
              " <Lambda name=lambda, built=True>]"
            ]
          },
          "metadata": {},
          "execution_count": 23
        }
      ]
    },
    {
      "cell_type": "markdown",
      "source": [
        "let it know, my embeding model is 3rd layer <Sequential>"
      ],
      "metadata": {
        "id": "svU79psFIWwe"
      }
    },
    {
      "cell_type": "code",
      "source": [
        "embedding_model = model.layers[2]\n"
      ],
      "metadata": {
        "id": "AqrCmPc0c8jB"
      },
      "execution_count": 24,
      "outputs": []
    },
    {
      "cell_type": "markdown",
      "source": [
        "Let's select two random images representing the digit 3, and one image representing the digit 7:"
      ],
      "metadata": {
        "id": "Si-NIRfRInpN"
      }
    },
    {
      "cell_type": "code",
      "source": [
        "digits = np.where(y_test == 3)[0]\n",
        "index1 = np.random.choice(digits)\n",
        "index2 = np.random.choice(digits)\n",
        "index3 = np.random.choice(np.where(y_test == 7)[0])\n",
        "\n",
        "index1, index2, index3"
      ],
      "metadata": {
        "colab": {
          "base_uri": "https://localhost:8080/"
        },
        "id": "SquuFewdc-Xw",
        "outputId": "466fe012-96f2-4204-9d21-9fd8761497ce"
      },
      "execution_count": 25,
      "outputs": [
        {
          "output_type": "execute_result",
          "data": {
            "text/plain": [
              "(2308, 7568, 4107)"
            ]
          },
          "metadata": {},
          "execution_count": 25
        }
      ]
    },
    {
      "cell_type": "markdown",
      "source": [
        "We can generate the embeddings for these 3 images:"
      ],
      "metadata": {
        "id": "g9E2k4a1IqVR"
      }
    },
    {
      "cell_type": "code",
      "source": [
        "embedding1 = embedding_model.predict(X_test[index1].reshape(1, -1))\n",
        "embedding2 = embedding_model.predict(X_test[index2].reshape(1, -1))\n",
        "embedding3 = embedding_model.predict(X_test[index3].reshape(1, -1))"
      ],
      "metadata": {
        "colab": {
          "base_uri": "https://localhost:8080/"
        },
        "id": "ATSKJ55rdBWT",
        "outputId": "88f1b655-3cea-487d-e76a-0eee70afc318"
      },
      "execution_count": 26,
      "outputs": [
        {
          "output_type": "stream",
          "name": "stdout",
          "text": [
            "\u001b[1m1/1\u001b[0m \u001b[32m━━━━━━━━━━━━━━━━━━━━\u001b[0m\u001b[37m\u001b[0m \u001b[1m0s\u001b[0m 147ms/step\n",
            "\u001b[1m1/1\u001b[0m \u001b[32m━━━━━━━━━━━━━━━━━━━━\u001b[0m\u001b[37m\u001b[0m \u001b[1m0s\u001b[0m 56ms/step\n",
            "\u001b[1m1/1\u001b[0m \u001b[32m━━━━━━━━━━━━━━━━━━━━\u001b[0m\u001b[37m\u001b[0m \u001b[1m0s\u001b[0m 53ms/step\n"
          ]
        }
      ]
    },
    {
      "cell_type": "markdown",
      "source": [
        "The distance between the embeddings of the two images representing the digit 3 should be really small (close to 0):"
      ],
      "metadata": {
        "id": "mj_I8HEhIuKJ"
      }
    },
    {
      "cell_type": "code",
      "source": [
        "norm(embedding1 - embedding2).numpy()"
      ],
      "metadata": {
        "colab": {
          "base_uri": "https://localhost:8080/"
        },
        "id": "iTunYqUKdDMI",
        "outputId": "bce52903-01e0-4a51-b98d-83b5573adc52"
      },
      "execution_count": 27,
      "outputs": [
        {
          "output_type": "execute_result",
          "data": {
            "text/plain": [
              "0.090937726"
            ]
          },
          "metadata": {},
          "execution_count": 27
        }
      ]
    },
    {
      "cell_type": "markdown",
      "source": [
        "The distances between the embeddings of the images representing the digit 3 and the image representing the digit 7 should be large (close to 1):"
      ],
      "metadata": {
        "id": "LR-F39VeIyci"
      }
    },
    {
      "cell_type": "code",
      "source": [
        "norm(embedding1 - embedding3).numpy(), norm(embedding2 - embedding3).numpy()"
      ],
      "metadata": {
        "colab": {
          "base_uri": "https://localhost:8080/"
        },
        "id": "XYqFJt6bdFxi",
        "outputId": "57e45d3a-3499-452f-e1bc-b8e16ca52cc0"
      },
      "execution_count": 28,
      "outputs": [
        {
          "output_type": "execute_result",
          "data": {
            "text/plain": [
              "(0.9900673, 0.930123)"
            ]
          },
          "metadata": {},
          "execution_count": 28
        }
      ]
    }
  ]
}